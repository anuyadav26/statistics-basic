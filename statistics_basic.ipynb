{
  "nbformat": 4,
  "nbformat_minor": 0,
  "metadata": {
    "colab": {
      "provenance": []
    },
    "kernelspec": {
      "name": "python3",
      "display_name": "Python 3"
    },
    "language_info": {
      "name": "python"
    }
  },
  "cells": [
    {
      "cell_type": "markdown",
      "source": [
        "***Q1) What is statistics and why is it important ?***\n",
        "  - Statistics is a branch of mathematics that involves collecting, analyzing, interpreting, and presenting data. It's crucial for understanding data, making informed decisions, and predicting future outcomes. Essentially, statistics helps us make sense of the world around us by transforming raw data into meaningful information.\n",
        "  - Here's why statistics is important:\n",
        "1. **Understanding Data:** Statistics provides tools to summarize and interpret data, revealing patterns, trends, and relationships that might not be immediately obvious.\n",
        "2. **Decision-Making:** By analyzing data, statistics helps individuals, businesses, and organizations make informed decisions based on evidence rather than guesswork.\n",
        "3. **Forecasting and Prediction:** Statistical methods allow us to make predictions about future events or trends based on past data.\n",
        "4. **Research and Scientific Advancement:** Statistics is fundamental in scientific research, helping researchers design experiments, analyze results, and draw conclusions.\n",
        "5. **Critical Thinking:** Studying statistics develops critical thinking skills, enabling us to evaluate information, identify biases, and draw logical conclusions.\n",
        "6. **Everyday Life:** Statistics is relevant to various aspects of daily life, from understanding weather patterns and market trends to evaluating health information"
      ],
      "metadata": {
        "id": "0FqlGlNI29iT"
      }
    },
    {
      "cell_type": "markdown",
      "source": [
        "***Q2) What are the two types of statistics ?***\n",
        "  - The two main types of statistics are descriptive statistics and inferential statistics. Descriptive statistics summarize and describe the characteristics of a sample or population. Inferential statistics use sample data to draw conclusions and make inferences about a larger population"
      ],
      "metadata": {
        "id": "D7-5whsB4Deb"
      }
    },
    {
      "cell_type": "markdown",
      "source": [
        "***Q3) What are descriptive statistics ?***\n",
        "  - Descriptive statistics summarize and organize characteristics of a data set. A data set is a collection of responses or observations from a sample or entire population.\n",
        "\n",
        "   In quantitative research, after collecting data, the first step of statistical analysis is to describe characteristics of the responses, such as the average of one variable (e.g., age), or the relation between two variables (e.g., age and creativity).\n",
        "\n",
        "   The next step is inferential statistics, which help you decide whether your data confirms or refutes your hypothesis and whether it is generalizable to a larger population."
      ],
      "metadata": {
        "id": "4swQoaYy4Wh7"
      }
    },
    {
      "cell_type": "markdown",
      "source": [
        "***Q4) What is inferential statistics ?***\n",
        "  - Inferential statistics is a branch of statistics that uses data from a sample to make inferences or draw conclusions about a larger population. It involves using statistical methods to generalize findings from a sample to the broader group from which it was drawn."
      ],
      "metadata": {
        "id": "cPs4j_8m4t5I"
      }
    },
    {
      "cell_type": "markdown",
      "source": [
        "***Q5) What is sampling in statistics ?***\n",
        "  - In statistics, sampling is the process of selecting a subset (called a sample) from a larger population to collect data and make inferences about the entire population. It's a practical and efficient way to gather information when it's impossible or impractical to collect data from every member of a population."
      ],
      "metadata": {
        "id": "AlkD2dx15AGq"
      }
    },
    {
      "cell_type": "markdown",
      "source": [
        "***Q6) What are the different type of sampling method ?***\n",
        "  - There are two main categories of sampling methods: probability (random) sampling and non-probability sampling. Probability sampling ensures each member of the population has a known, non-zero chance of being selected, while non-probability sampling does not rely on random selection"
      ],
      "metadata": {
        "id": "-65EwWTh5Pim"
      }
    },
    {
      "cell_type": "markdown",
      "source": [
        "***Q7) What is the difference between random and non-random sampling ?***\n",
        "  - The key difference between random and non-random sampling lies in how participants are selected for a study. Random sampling ensures that each member of the population has an equal chance of being chosen, minimizing bias and allowing for generalization of findings to the larger population. Non-random sampling, on the other hand, relies on convenience, judgment, or specific criteria, making it more prone to bias and less suitable for generalizing results to a broader population"
      ],
      "metadata": {
        "id": "07ShNVhW5jzb"
      }
    },
    {
      "cell_type": "markdown",
      "source": [
        "***Q8) Define and give an example of qualitative and quantitative data .***\n",
        "  - Qualitative data describes qualities or characteristics, like colors or opinions, while quantitative data involves numerical measurements or counts. An example of qualitative data is the description of someone's hair color (e.g., brown, blonde, red). An example of quantitative data is the height of a person measured in centimeters"
      ],
      "metadata": {
        "id": "Fa5i47ol55sF"
      }
    },
    {
      "cell_type": "markdown",
      "source": [
        "***Q9) What are the different type of data in statistics ?***\n",
        "  - In statistics, data is broadly classified into qualitative (categorical) and quantitative (numerical) data. Qualitative data describes qualities or attributes, while quantitative data represents measurable quantities. Qualitative data can be further divided into nominal and ordinal data, while quantitative data is divided into discrete and continuous data.\n",
        "  **Qualitative (Categorical) Data:**\n",
        "  - **Nominal Data:**\n",
        "Represents names or categories without any inherent order or ranking. Examples include gender (male, female), blood type (A, B, AB, O), or color (red, blue, green).\n",
        "**Ordinal Data:**\n",
        "Represents categories with a meaningful order or ranking, but the intervals between categories may not be equal. Examples include survey responses (strongly agree, agree, neutral, disagree, strongly disagree) or educational levels (high school, bachelor's, master's, PhD).\n",
        "\n",
        "**Quantitative (Numerical) Data:**\n",
        " - **Discrete Data:**\n",
        "Represents countable values or distinct, separate units. Examples include the number of students in a class, the number of cars passing a checkpoint in an hour, or the number of defective items in a batch.\n",
        "**Continuous Data:**\n",
        "Represents values that can take on any value within a given range. Examples include height, weight, temperature, or tim"
      ],
      "metadata": {
        "id": "xEtk_k6X6P52"
      }
    },
    {
      "cell_type": "markdown",
      "source": [
        "Q10) Expain nominal, ordinal , interval, and ratio levels of measurement .\n",
        "   - The four levels of measurement are nominal, ordinal, interval, and ratio. They categorize and rank data, with the increasing sophistication in the ability to perform statistical analysis. Nominal data is categorical with no inherent order, ordinal data is categorical with an order or rank, interval data has an ordered scale with equal intervals but no true zero, and ratio data has an ordered scale with equal intervals and a true zero.\n",
        "  - **Here's a more detailed breakdown:**\n",
        "      - **Nominal:**\n",
        "This is the most basic level of measurement, where data is categorized but not ordered. Examples include gender (male, female), eye color (blue, brown, green), or blood type (A, B, AB, O).\n",
        "      - **Ordinal**:Ordinal data can be categorized and ranked, but the intervals between the categories may not be equal or meaningful. Examples include rankings in a race (first, second, third), satisfaction levels (very dissatisfied, dissatisfied, neutral, satisfied, very satisfied), or income levels (low, medium, high).\n",
        "      - **Interval:**\n",
        "Interval data is ordered, and the difference between two values is meaningful and equal. However, there is no true zero point. Temperature (Celsius or Fahrenheit) is a good example. Zero degrees Celsius does not represent a lack of heat, and the difference between 10°C and 20°C is the same as the difference between 20°C and 30°C.\n",
        "      - **Ratio:**\n",
        "Ratio data is the most sophisticated level of measurement. It's ordered, has equal intervals, and has a true zero point. Examples include height, weight, distance, and age. A zero in height means there is no height, and the ratio between two heights is meaningful."
      ],
      "metadata": {
        "id": "PWdhnhxa7IdG"
      }
    },
    {
      "cell_type": "markdown",
      "source": [
        "***Q11) What is the measure of central tendency ?***\n",
        "   - In statistics, a central tendency is a central or typical value for a probability distribution. Colloquially, measures of central tendency are often called averages. The term central tendency dates from the late 1920s. The most common measures of central tendency are the arithmetic mean, the median, and the mode"
      ],
      "metadata": {
        "id": "McobGd6r8bq8"
      }
    },
    {
      "cell_type": "markdown",
      "source": [
        "***Q12) Define mean, median , and more .***\n",
        "   - In statistics, mean, median, and mode are three different ways to calculate the \"average\" or central tendency of a data set. The mean is the arithmetic average, found by summing all values and dividing by the number of values. The median is the middle value when the data is sorted numerically. The mode is the value that appears most frequently in the data."
      ],
      "metadata": {
        "id": "LmG_KE0T8usZ"
      }
    },
    {
      "cell_type": "markdown",
      "source": [
        "***Q13) What is the significance of the measure of central tendency ?***\n",
        "   - Measures of central tendency, like mean, median, and mode, are crucial in statistics because they provide a single, representative value to describe a dataset. This allows for easier comparison of different datasets and offers a snapshot of the typical or central value within a group of data.\n",
        "**Here's why they're significant:**\n",
        "     - **Summarization:**\n",
        "They condense a large dataset into a single, easily understandable number, making it easier to grasp the general trend or typical value.\n",
        "     - **Comparison:**\n",
        "They enable comparison of different datasets. For example, you can compare the average income of two cities or the most frequent grade in two different classes.\n",
        "     - **Prediction:**\n",
        "They can be used to make predictions or estimations about the data. For example, if you know the average height of students in a school, you can make a reasonable guess about the height of a new student.\n",
        "    - **Understanding Distributions:**\n",
        "They help understand the shape and distribution of the data. For instance, comparing the mean and median can reveal if the data is skewed (more values on one side of the center).\n",
        "     - **Identifying Outliers:**\n",
        "They can help identify extreme values (outliers) that might be skewing the data."
      ],
      "metadata": {
        "id": "lEa3m9_p8___"
      }
    },
    {
      "cell_type": "markdown",
      "source": [
        "Q14) ***What is variance, and how is it calculate ?***\n",
        "   - In statistics, variance is a measure of how spread out a set of data is. It quantifies the average squared deviation of each data point from the mean of the dataset. A higher variance indicates that the data points are more dispersed, while a lower variance suggests they are clustered closer to the mean.\n",
        "\n",
        "- **How to Calculate Variance**\n",
        "\n",
        "  - **Calculate the Mean:** Determine the average of the dataset by summing all values and dividing by the total number of values.\n",
        "\n",
        "  - **Calculate Deviations:** For each data point, subtract the mean from the data point's value. This gives you the deviation of each data point from the mean.\n",
        "\n",
        "  - **Square the Deviations:** Square each of the deviations obtained in the previous step.\n",
        "\n",
        "  - **Sum the Squared Deviations:** Add up all the squared deviations.\n",
        "\n",
        "  - **Divide by the Number of Data Points:** Divide the sum of squared deviations by the total number of data points (or by the number of data points minus 1 for sample variance).\n",
        "\n",
        "   σ² = Σ (Xi - μ)² / N"
      ],
      "metadata": {
        "id": "C0Yg3NMf93Dt"
      }
    },
    {
      "cell_type": "markdown",
      "source": [
        "***Q15) What is standard deviation and why is important ?***\n",
        "   - Standard deviation is a statistical measure that indicates the spread or variability of a dataset around its mean. A low standard deviation means data points are clustered closely around the mean, while a high standard deviation signifies greater variability or dispersion. It's important because it helps us understand how consistent or reliable a dataset is and is used in various fields like finance, quality control, and more.\n",
        "   - Importance of Standard Deviation:\n",
        "    - **Measures Variability:**\n",
        "Standard deviation quantifies how much individual data points differ from the average (mean).\n",
        "    - **Indicates Data Consistency:**\n",
        "A low standard deviation suggests data points are tightly grouped around the mean, implying high consistency.\n",
        "    - **Helps in Making Inferences:**\n",
        "It can be used to compare different datasets and see which one has more or less spread.\n",
        "    - **Risk Assessment:**\n",
        "In finance, it's used to assess the volatility of assets, where a higher standard deviation indicates higher risk.\n",
        "    - **Quality Control:**\n",
        "In manufacturing, it helps ensure consistent product dimensions and quality.\n",
        "    - **Data Analysis:**\n",
        "It provides insights into the distribution and characteristics of a dataset, aiding in data analysis and interpretation."
      ],
      "metadata": {
        "id": "WP6bvEJ3AcyO"
      }
    },
    {
      "cell_type": "markdown",
      "source": [
        "***Q16) Define and explain the term range in statistics ?***\n",
        "   - In statistics, the range is a measure of dispersion that represents the difference between the largest and smallest values in a dataset. It's calculated by subtracting the minimum value from the maximum value.  \n",
        "\n",
        "   -Explanation:\n",
        "    - Definition: The range is a simple measure of the spread or variability within a dataset.\n",
        "    - Calculation: Range = Highest Value - Lowest Value.\n",
        "    - Purpose: The range provides a quick indication of how much the data values vary.\n",
        "    - Example: In the dataset {2, 4, 6, 8, 12}, the highest value is 12 and the lowest value is 2. Therefore, the range is 12 - 2 = 10."
      ],
      "metadata": {
        "id": "NMUW_i22BQUN"
      }
    },
    {
      "cell_type": "markdown",
      "source": [
        "***Q17) What is the difference between variance and standard deviation ?***\n",
        "   - Variance and standard deviation are both measures of data spread, but they differ in how they are calculated and interpreted. Variance is the average of the squared differences from the mean, while standard deviation is the square root of the variance. In essence, variance provides a measure of the spread in squared units, while standard deviation provides a measure of spread in the original units of the data.\n",
        "\n",
        "   - Variance: The average of the squared differences between each data point and the mean.\n",
        "    - Units:\n",
        "Variance is expressed in squared units, making it difficult to directly interpret the spread in the original context.\n",
        "    - Purpose:\n",
        "Used in calculations and as a foundation for understanding standard deviation.\n",
        "    - Standard Deviation:\n",
        "     - Definition: The square root of the variance.\n",
        "Units: Expressed in the same units as the original data, making it more intuitive to understand the spread of the data.\n",
        "     - Purpose: Provides a more readily interpretable measure of data spread around the mean"
      ],
      "metadata": {
        "id": "tBXHMLpmB9t0"
      }
    },
    {
      "cell_type": "markdown",
      "source": [
        "***Q18) What is skewness in a dataset ?***\n",
        "   - Skewness in a dataset refers to the degree of asymmetry in the distribution of data points around the mean. It indicates whether the data is more spread out on one side of the mean than the other. A dataset with a positive skew has a tail extending towards the right, while a negatively skewed dataset has a tail extending towards the left. A symmetrical distribution has zero skewness"
      ],
      "metadata": {
        "id": "zT3u_asZC8zk"
      }
    },
    {
      "cell_type": "markdown",
      "source": [
        "***Q19) What does it mean if a dataset is positively or negatively skewed ?***\n",
        "   - A positively skewed dataset indicates that the majority of the data points are clustered on the lower side of the scale, with a few higher values forming a \"tail\" on the right side. Conversely, a negatively skewed dataset shows that the majority of data points are on the higher side, with a few lower values creating a \"tail\" on the left side."
      ],
      "metadata": {
        "id": "CXVg8VbEDRs2"
      }
    },
    {
      "cell_type": "markdown",
      "source": [
        "***Q20) Define and explain kurtosis ?***\n",
        "   - Kurtosis is a measure of the tailedness of a distribution. Tailedness is how often outliers occur. Excess kurtosis is the tailedness of a distribution relative to a normal distribution. Distributions with medium kurtosis (medium tails) are mesokurtic. Distributions with low kurtosis (thin tails) are platykurtic."
      ],
      "metadata": {
        "id": "6hvuy__YDjc0"
      }
    },
    {
      "cell_type": "markdown",
      "source": [
        "***Q21) What is the purpose of covariance ?***\n",
        "   - Covariance and variance are used to measure the distribution of points in a data set. However, variance is typically used in data sets with only one variable and indicates how closely those data points are clustered around the average. Covariance measures the direction of the relationship between two variables."
      ],
      "metadata": {
        "id": "K2BR23ItDwsT"
      }
    },
    {
      "cell_type": "markdown",
      "source": [
        "***Q22) What does correlation measure in statistics ?***\n",
        "   - In statistics, correlation measures the strength and direction of the relationship between two variables. It indicates whether changes in one variable tend to be associated with changes in the other, and if those changes are in the same or opposite direction. Correlation does not imply causation, but it can be a useful tool for understanding relationships between variables."
      ],
      "metadata": {
        "id": "V9fqvoQvD9CW"
      }
    },
    {
      "cell_type": "markdown",
      "source": [
        "***Q23) What is the difference between covarriance and correlation ?***\n",
        "   - Covariance and correlation are both statistical measures that describe the relationship between two variables, but they differ in how they quantify that relationship. Covariance measures the direction and magnitude of the linear relationship, while correlation measures the strength and direction of the linear relationship, but in a standardized way. Covariance can take any value from negative to positive infinity, and its value can be affected by the scale of the variables. Correlation, on the other hand, is standardized and always falls between -1 and 1, making it easier to interpret the strength of the relationship, according to Statistics and the University of Michigan and SlideShare."
      ],
      "metadata": {
        "id": "MgqVCAw4EOF4"
      }
    },
    {
      "cell_type": "markdown",
      "source": [
        "***Q24) What are some real world application of statistics ?***\n",
        "   - Statistics is widely used in various real-world applications, including quality control, machine learning, weather forecasting, political campaigns, and business decision-making. It helps in analyzing data, drawing conclusions, and making informed decisions in diverse fields like science, healthcare, and finance"
      ],
      "metadata": {
        "id": "NNHSZNopEbNj"
      }
    },
    {
      "cell_type": "markdown",
      "source": [
        "# ***PRACTICAL QUIESTIONS***"
      ],
      "metadata": {
        "id": "bc_oOqO3Epy_"
      }
    },
    {
      "cell_type": "markdown",
      "source": [
        "***Q1) How do you calculate the mean, median and mode of a dataset ?***\n",
        "  "
      ],
      "metadata": {
        "id": "JsWOrDPqEvda"
      }
    },
    {
      "cell_type": "code",
      "source": [
        "#mean\n",
        "age = [28, 56, 35, 28, 76, 89]\n",
        "(28+56+35+28+76+89) /6"
      ],
      "metadata": {
        "colab": {
          "base_uri": "https://localhost:8080/"
        },
        "id": "U8HEUrNaE51p",
        "outputId": "1c037fea-2aba-42b7-a144-0b36de9217de"
      },
      "execution_count": 1,
      "outputs": [
        {
          "output_type": "execute_result",
          "data": {
            "text/plain": [
              "52.0"
            ]
          },
          "metadata": {},
          "execution_count": 1
        }
      ]
    },
    {
      "cell_type": "code",
      "source": [
        "import numpy as np\n",
        "np.mean(age)"
      ],
      "metadata": {
        "colab": {
          "base_uri": "https://localhost:8080/"
        },
        "id": "rNqNQF0nGmAK",
        "outputId": "d8a0e012-956d-48dc-a008-8d5ab968db18"
      },
      "execution_count": 2,
      "outputs": [
        {
          "output_type": "execute_result",
          "data": {
            "text/plain": [
              "np.float64(52.0)"
            ]
          },
          "metadata": {},
          "execution_count": 2
        }
      ]
    },
    {
      "cell_type": "code",
      "source": [
        "#median\n",
        "nos = [4, 2, 3, 7, 8]\n",
        "np.median(nos)"
      ],
      "metadata": {
        "colab": {
          "base_uri": "https://localhost:8080/"
        },
        "id": "oYYiVKqHGolg",
        "outputId": "7e103469-2ad4-414e-f6c3-6b16302046dc"
      },
      "execution_count": 3,
      "outputs": [
        {
          "output_type": "execute_result",
          "data": {
            "text/plain": [
              "np.float64(4.0)"
            ]
          },
          "metadata": {},
          "execution_count": 3
        }
      ]
    },
    {
      "cell_type": "code",
      "source": [
        "#mode\n",
        "nos = [4, 2, 3, 7, 8]\n",
        "np.mode(nos)"
      ],
      "metadata": {
        "colab": {
          "base_uri": "https://localhost:8080/",
          "height": 297
        },
        "id": "7CF6XG-FGuOd",
        "outputId": "e54d5b62-1984-4ed4-b86f-d42d1c7beaa8"
      },
      "execution_count": 5,
      "outputs": [
        {
          "output_type": "error",
          "ename": "AttributeError",
          "evalue": "module 'numpy' has no attribute 'mode'",
          "traceback": [
            "\u001b[0;31m---------------------------------------------------------------------------\u001b[0m",
            "\u001b[0;31mAttributeError\u001b[0m                            Traceback (most recent call last)",
            "\u001b[0;32m<ipython-input-5-30762d7969ba>\u001b[0m in \u001b[0;36m<cell line: 0>\u001b[0;34m()\u001b[0m\n\u001b[1;32m      1\u001b[0m \u001b[0;31m#mode\u001b[0m\u001b[0;34m\u001b[0m\u001b[0;34m\u001b[0m\u001b[0m\n\u001b[1;32m      2\u001b[0m \u001b[0mnos\u001b[0m \u001b[0;34m=\u001b[0m \u001b[0;34m[\u001b[0m\u001b[0;36m4\u001b[0m\u001b[0;34m,\u001b[0m \u001b[0;36m2\u001b[0m\u001b[0;34m,\u001b[0m \u001b[0;36m3\u001b[0m\u001b[0;34m,\u001b[0m \u001b[0;36m7\u001b[0m\u001b[0;34m,\u001b[0m \u001b[0;36m8\u001b[0m\u001b[0;34m]\u001b[0m\u001b[0;34m\u001b[0m\u001b[0;34m\u001b[0m\u001b[0m\n\u001b[0;32m----> 3\u001b[0;31m \u001b[0mnp\u001b[0m\u001b[0;34m.\u001b[0m\u001b[0mmode\u001b[0m\u001b[0;34m(\u001b[0m\u001b[0mnos\u001b[0m\u001b[0;34m)\u001b[0m\u001b[0;34m\u001b[0m\u001b[0;34m\u001b[0m\u001b[0m\n\u001b[0m",
            "\u001b[0;32m/usr/local/lib/python3.11/dist-packages/numpy/__init__.py\u001b[0m in \u001b[0;36m__getattr__\u001b[0;34m(attr)\u001b[0m\n\u001b[1;32m    408\u001b[0m             \u001b[0;32mreturn\u001b[0m \u001b[0mchar\u001b[0m\u001b[0;34m.\u001b[0m\u001b[0mchararray\u001b[0m\u001b[0;34m\u001b[0m\u001b[0;34m\u001b[0m\u001b[0m\n\u001b[1;32m    409\u001b[0m \u001b[0;34m\u001b[0m\u001b[0m\n\u001b[0;32m--> 410\u001b[0;31m         raise AttributeError(\"module {!r} has no attribute \"\n\u001b[0m\u001b[1;32m    411\u001b[0m                              \"{!r}\".format(__name__, attr))\n\u001b[1;32m    412\u001b[0m \u001b[0;34m\u001b[0m\u001b[0m\n",
            "\u001b[0;31mAttributeError\u001b[0m: module 'numpy' has no attribute 'mode'"
          ]
        }
      ]
    },
    {
      "cell_type": "code",
      "source": [
        "import statistics"
      ],
      "metadata": {
        "id": "V63EXXPDHOWG"
      },
      "execution_count": 6,
      "outputs": []
    },
    {
      "cell_type": "code",
      "source": [
        "statistics.mode(nos)"
      ],
      "metadata": {
        "colab": {
          "base_uri": "https://localhost:8080/"
        },
        "id": "80jxnE1oHSby",
        "outputId": "21875157-5232-4142-a2f6-3b1a6f874499"
      },
      "execution_count": 7,
      "outputs": [
        {
          "output_type": "execute_result",
          "data": {
            "text/plain": [
              "4"
            ]
          },
          "metadata": {},
          "execution_count": 7
        }
      ]
    },
    {
      "cell_type": "markdown",
      "source": [
        "***Q2) Write a Python program to compute the variance and standard deviation of a dataset .***"
      ],
      "metadata": {
        "id": "6yOr9i6JHVRN"
      }
    },
    {
      "cell_type": "code",
      "source": [
        "import math\n",
        "\n",
        "def calculate_mean(dataset):\n",
        "    \"\"\"Calculates the mean of a list of numbers.\"\"\"\n",
        "    return sum(dataset) / len(dataset)\n",
        "\n",
        "def calculate_variance(dataset, mean):\n",
        "  \"\"\"Calculates the variance of a list of numbers.\"\"\"\n",
        "  return sum([(x - mean) ** 2 for x in dataset]) / (len(dataset) - 1)\n",
        "\n",
        "def calculate_std_dev(variance):\n",
        "    \"\"\"Calculates the standard deviation from the variance.\"\"\"\n",
        "    return math.sqrt(variance)\n",
        "\n",
        "if __name__ == \"__main__\":\n",
        "    data = [10, 12, 23, 23, 16, 23, 21, 16]\n",
        "\n",
        "    mean_value = calculate_mean(data)\n",
        "    variance_value = calculate_variance(data, mean_value)\n",
        "    std_dev_value = calculate_std_dev(variance_value)\n",
        "\n",
        "    print(f\"Dataset: {data}\")\n",
        "    print(f\"Mean: {mean_value}\")\n",
        "    print(f\"Variance: {variance_value}\")\n",
        "    print(f\"Standard Deviation: {std_dev_value}\")"
      ],
      "metadata": {
        "colab": {
          "base_uri": "https://localhost:8080/"
        },
        "id": "HERptgB7HjpW",
        "outputId": "525476ea-8a58-478c-83c5-a2b40ecde210"
      },
      "execution_count": 8,
      "outputs": [
        {
          "output_type": "stream",
          "name": "stdout",
          "text": [
            "Dataset: [10, 12, 23, 23, 16, 23, 21, 16]\n",
            "Mean: 18.0\n",
            "Variance: 27.428571428571427\n",
            "Standard Deviation: 5.237229365663817\n"
          ]
        }
      ]
    },
    {
      "cell_type": "markdown",
      "source": [
        "***Q3) Create a dataset and classify it into nominal, ordinal, interval and ratio type ?***"
      ],
      "metadata": {
        "id": "KYAtwDJFHwaR"
      }
    },
    {
      "cell_type": "code",
      "source": [
        "import pandas as pd\n",
        "\n",
        "data = {\n",
        "    'Gender': ['Male', 'Female', 'Male', 'Female', 'Male'],\n",
        "    'Education': ['High School', 'Bachelor\\'s', 'Master\\'s', 'PhD', 'Bachelor\\'s'],\n",
        "    'Temperature': [25, 28, 22, 26, 27],\n",
        "    'Income': [50000, 60000, 75000, 100000, 65000],\n",
        "    'Age': [25, 30, 35, 40, 28]\n",
        "}\n",
        "\n",
        "df = pd.DataFrame(data)\n",
        "\n",
        "print(df)"
      ],
      "metadata": {
        "colab": {
          "base_uri": "https://localhost:8080/"
        },
        "id": "vcvoJ5XaH9Cx",
        "outputId": "e864afbf-9590-4339-fef4-8164d590a4c1"
      },
      "execution_count": 9,
      "outputs": [
        {
          "output_type": "stream",
          "name": "stdout",
          "text": [
            "   Gender    Education  Temperature  Income  Age\n",
            "0    Male  High School           25   50000   25\n",
            "1  Female   Bachelor's           28   60000   30\n",
            "2    Male     Master's           22   75000   35\n",
            "3  Female          PhD           26  100000   40\n",
            "4    Male   Bachelor's           27   65000   28\n"
          ]
        }
      ]
    },
    {
      "cell_type": "markdown",
      "source": [
        "***Q4) Impliment sampling techniques like random sampling and stratified sampling .***\n"
      ],
      "metadata": {
        "id": "iDXoWj7GIcsa"
      }
    },
    {
      "cell_type": "code",
      "source": [
        "import random\n",
        "from collections import defaultdict\n",
        "\n",
        "def random_sampling(population, sample_size):\n",
        "    \"\"\"\n",
        "    Selects a random sample of a given size from the population.\n",
        "\n",
        "    Args:\n",
        "        population: A list representing the entire population.\n",
        "        sample_size: An integer representing the desired sample size.\n",
        "\n",
        "    Returns:\n",
        "        A list representing the random sample.\n",
        "    \"\"\"\n",
        "    if sample_size > len(population):\n",
        "      raise ValueError(\"Sample size cannot be larger than the population\")\n",
        "    return random.sample(population, sample_size)\n",
        "\n",
        "def stratified_sampling(population, strata_labels, sample_size_per_stratum):\n",
        "    \"\"\"\n",
        "    Selects a stratified sample from the population, ensuring representation from each stratum.\n",
        "\n",
        "    Args:\n",
        "        population: A list representing the entire population.\n",
        "        strata_labels: A list of the same length as population, indicating the stratum each individual belongs to.\n",
        "        sample_size_per_stratum: A dictionary specifying the desired sample size for each stratum.\n",
        "\n",
        "    Returns:\n",
        "        A list representing the stratified sample.\n",
        "    \"\"\"\n",
        "\n",
        "    if len(population) != len(strata_labels):\n",
        "        raise ValueError(\"Population and strata labels must have the same length.\")\n",
        "\n",
        "    strata = defaultdict(list)\n",
        "    for i, label in enumerate(strata_labels):\n",
        "        strata[label].append(population[i])\n",
        "\n",
        "    stratified_sample = []\n",
        "    for stratum, stratum_population in strata.items():\n",
        "        sample_size = sample_size_per_stratum.get(stratum, 0)\n",
        "        if sample_size > len(stratum_population):\n",
        "          raise ValueError(f\"Sample size for stratum '{stratum}' cannot be larger than its population\")\n",
        "        stratified_sample.extend(random_sampling(stratum_population, sample_size))\n",
        "    return stratified_sample"
      ],
      "metadata": {
        "id": "K7mcnBAOJ9g_"
      },
      "execution_count": 14,
      "outputs": []
    },
    {
      "cell_type": "markdown",
      "source": [
        "***Q5) Write a python program to calculate the range of a dataset.***\n"
      ],
      "metadata": {
        "id": "hRtx1xhiKTs4"
      }
    },
    {
      "source": [
        "def calculate_range(dataset):\n",
        "  \"\"\"Calculates the range of a dataset.\n",
        "\n",
        "  Args:\n",
        "    dataset: A list or tuple of numerical data.\n",
        "\n",
        "  Returns:\n",
        "    The range of the dataset, which is the difference between the maximum and minimum values.\n",
        "  \"\"\"\n",
        "  if not dataset:\n",
        "    raise ValueError(\"Dataset cannot be empty.\")\n",
        "\n",
        "  return max(dataset) - min(dataset)\n",
        "\n",
        "# Example usage\n",
        "data = [10, 12, 23, 23, 16, 23, 21, 16]\n",
        "\n",
        "range_value = calculate_range(data)\n",
        "\n",
        "print(f\"Dataset: {data}\")\n",
        "print(f\"Range: {range_value}\")  # Output: Range: 13"
      ],
      "cell_type": "code",
      "metadata": {
        "colab": {
          "base_uri": "https://localhost:8080/"
        },
        "id": "s5Z4cXqwLIOa",
        "outputId": "bfe6b643-9912-4fc0-91ea-c0f495cc5cd3"
      },
      "execution_count": 15,
      "outputs": [
        {
          "output_type": "stream",
          "name": "stdout",
          "text": [
            "Dataset: [10, 12, 23, 23, 16, 23, 21, 16]\n",
            "Range: 13\n"
          ]
        }
      ]
    },
    {
      "cell_type": "markdown",
      "source": [
        "*Q6) Create a dataset and plot its histogram to visualize skewness. *"
      ],
      "metadata": {
        "id": "rcv0SVnwLMdw"
      }
    },
    {
      "source": [
        "import numpy as np\n",
        "import pandas as pd\n",
        "import matplotlib.pyplot as plt\n",
        "import seaborn as sns"
      ],
      "cell_type": "code",
      "metadata": {
        "id": "DfPBmVNALqmr"
      },
      "execution_count": 16,
      "outputs": []
    },
    {
      "source": [
        "# Generate a right-skewed dataset\n",
        "data = np.random.gamma(2, 2, 1000)  # Gamma distribution with shape=2, scale=2, size=1000\n",
        "\n",
        "# Create a Pandas DataFrame\n",
        "df = pd.DataFrame(data, columns=['Values'])"
      ],
      "cell_type": "code",
      "metadata": {
        "id": "Iu1rBl4aLtLC"
      },
      "execution_count": 17,
      "outputs": []
    },
    {
      "source": [
        "# Plot histogram using Matplotlib\n",
        "plt.hist(df['Values'], bins=30)  # Adjust bins as needed\n",
        "plt.xlabel('Values')\n",
        "plt.ylabel('Frequency')\n",
        "plt.title('Histogram of Right-Skewed Data')\n",
        "plt.show()\n",
        "\n",
        "# Alternatively, plot using Seaborn for a more aesthetically pleasing histogram\n",
        "sns.histplot(df['Values'], bins=30, kde=True)  # kde=True adds a kernel density estimate\n",
        "plt.xlabel('Values')\n",
        "plt.ylabel('Frequency')\n",
        "plt.title('Histogram of Right-Skewed Data (Seaborn)')\n",
        "plt.show()"
      ],
      "cell_type": "code",
      "metadata": {
        "colab": {
          "base_uri": "https://localhost:8080/",
          "height": 927
        },
        "id": "lDbF55MCLt-l",
        "outputId": "091692e5-b567-4f76-e4d8-fdf8e62d5caa"
      },
      "execution_count": 18,
      "outputs": [
        {
          "output_type": "display_data",
          "data": {
            "text/plain": [
              "<Figure size 640x480 with 1 Axes>"
            ],
            "image/png": "[encoded data removed]"
          },
          "metadata": {}
        },
        {
          "output_type": "display_data",
          "data": {
            "text/plain": [
              "<Figure size 640x480 with 1 Axes>"
            ],
            "image/png": "[encoded data removed]"
          },
          "metadata": {}
        }
      ]
    },
    {
      "cell_type": "markdown",
      "source": [
        "***Q7) Calculate skewness and kurtosis of a dataset using python libraries.***"
      ],
      "metadata": {
        "id": "fTBpVLd2L4Ei"
      }
    },
    {
      "source": [
        "import pandas as pd\n",
        "import scipy.stats as stats"
      ],
      "cell_type": "code",
      "metadata": {
        "id": "tTFjfkGKMMBu"
      },
      "execution_count": 20,
      "outputs": []
    },
    {
      "source": [
        "# Example dataset\n",
        "data = [1, 2, 3, 4, 5, 6, 7, 8, 9, 10, 50]\n",
        "# Create a Pandas Series for easier handling\n",
        "data = pd.Series(data)"
      ],
      "cell_type": "code",
      "metadata": {
        "id": "Ne9Zrh32MMgF"
      },
      "execution_count": 19,
      "outputs": []
    },
    {
      "source": [
        "skewness = stats.skew(data)\n",
        "print(f\"Skewness: {skewness}\")"
      ],
      "cell_type": "code",
      "metadata": {
        "colab": {
          "base_uri": "https://localhost:8080/"
        },
        "id": "n8YOdOc4MNRa",
        "outputId": "3e48701d-83a8-4d5c-ea0a-cf31a4f49d1d"
      },
      "execution_count": 21,
      "outputs": [
        {
          "output_type": "stream",
          "name": "stdout",
          "text": [
            "Skewness: 2.6203963356357867\n"
          ]
        }
      ]
    },
    {
      "source": [
        "kurtosis = stats.kurtosis(data)\n",
        "print(f\"Kurtosis: {kurtosis}\")"
      ],
      "cell_type": "code",
      "metadata": {
        "colab": {
          "base_uri": "https://localhost:8080/"
        },
        "id": "rFN_jZxvMNq1",
        "outputId": "f7c3f7cb-eeb1-48a1-8990-9832591e6fff"
      },
      "execution_count": 22,
      "outputs": [
        {
          "output_type": "stream",
          "name": "stdout",
          "text": [
            "Kurtosis: 5.348850239482438\n"
          ]
        }
      ]
    },
    {
      "cell_type": "markdown",
      "source": [
        "*** Q8) Generate a dataset and demonstrate positive and negative skewness.***"
      ],
      "metadata": {
        "id": "GHRbD0UuMR7j"
      }
    },
    {
      "source": [
        "import numpy as np\n",
        "import pandas as pd\n",
        "import matplotlib.pyplot as plt\n",
        "import seaborn as sns\n",
        "\n",
        "# Generate a right-skewed (positive skew) dataset\n",
        "positive_skew_data = np.random.gamma(2, 2, 1000)  # Gamma distribution with shape=2, scale=2, size=1000\n",
        "\n",
        "# Generate a left-skewed (negative skew) dataset\n",
        "negative_skew_data = np.random.beta(5, 2, 1000)  # Beta distribution with alpha=5, beta=2, size=1000\n",
        "\n",
        "# Create Pandas DataFrames for easier handling\n",
        "positive_skew_df = pd.DataFrame(positive_skew_data, columns=['Values'])\n",
        "negative_skew_df = pd.DataFrame(negative_skew_data, columns=['Values'])"
      ],
      "cell_type": "code",
      "metadata": {
        "id": "GYDVqij5P5CK"
      },
      "execution_count": 23,
      "outputs": []
    },
    {
      "cell_type": "markdown",
      "source": [
        "Q9) Write a Python script to calculate covariance between two datasets."
      ],
      "metadata": {
        "id": "Lx1Azj4jP-xa"
      }
    },
    {
      "source": [
        "import numpy as np\n",
        "\n",
        "def calculate_covariance(dataset1, dataset2):\n",
        "    \"\"\"Calculates the covariance between two datasets.\n",
        "\n",
        "    Args:\n",
        "        dataset1: A list or NumPy array representing the first dataset.\n",
        "        dataset2: A list or NumPy array representing the second dataset.\n",
        "\n",
        "    Returns:\n",
        "        The covariance between the two datasets.\n",
        "    \"\"\"\n",
        "\n",
        "    # Convert datasets to NumPy arrays if necessary\n",
        "    dataset1 = np.array(dataset1)\n",
        "    dataset2 = np.array(dataset2)\n",
        "\n",
        "    # Check if datasets have the same length\n",
        "    if len(dataset1) != len(dataset2):\n",
        "        raise ValueError(\"Datasets must have the same length.\")\n",
        "\n",
        "    # Calculate the means of the datasets\n",
        "    mean1 = np.mean(dataset1)\n",
        "    mean2 = np.mean(dataset2)\n",
        "\n",
        "    # Calculate the covariance using the formula:\n",
        "    # Cov(X, Y)"
      ],
      "cell_type": "code",
      "metadata": {
        "id": "8I22oizfQNoJ"
      },
      "execution_count": 24,
      "outputs": []
    },
    {
      "cell_type": "markdown",
      "source": [
        "***Q10) Write a python script to calculate the correlation coefficient between two datasets.***"
      ],
      "metadata": {
        "id": "Z-s-IS9KQbi7"
      }
    },
    {
      "source": [
        "import numpy as np\n",
        "\n",
        "def calculate_correlation_coefficient(dataset1, dataset2):\n",
        "    \"\"\"Calculates the correlation coefficient between two datasets.\n",
        "\n",
        "    Args:\n",
        "        dataset1: A list or NumPy array representing the first dataset.\n",
        "        dataset2: A list or NumPy array representing the second dataset.\n",
        "\n",
        "    Returns:\n",
        "        The correlation coefficient between the two datasets.\n",
        "    \"\"\"\n",
        "\n",
        "    # Convert datasets to NumPy arrays if necessary\n",
        "    dataset1 = np.array(dataset1)\n",
        "    dataset2 = np.array(dataset2)\n",
        "\n",
        "    # Check if datasets have the same length\n",
        "    if len(dataset1) != len(dataset2):\n",
        "        raise ValueError(\"Datasets must have the same length.\")\n",
        "\n",
        "    # Calculate the correlation coefficient using NumPy's corrcoef function\n",
        "    correlation_matrix = np.corrcoef(dataset1, dataset2)\n",
        "\n",
        "    # The correlation coefficient is the element at index (0, 1) or (1, 0)\n",
        "    # in the correlation matrix\n",
        "    correlation_coefficient = correlation_matrix[0, 1]\n",
        "\n",
        "    return correlation_coefficient\n",
        "\n",
        "# Example usage\n",
        "dataset1 = [1, 2, 3, 4, 5]\n",
        "dataset2 = [2, 4, 6, 8, 10]\n",
        "\n",
        "correlation = calculate_correlation_coefficient(dataset1, dataset2)\n",
        "\n",
        "print(f\"Correlation coefficient: {correlation}\")  # Output: Correlation coefficient: 1.0"
      ],
      "cell_type": "code",
      "metadata": {
        "colab": {
          "base_uri": "https://localhost:8080/"
        },
        "id": "50zKY9qEQyJ5",
        "outputId": "5cb976c5-83c9-4e0b-8175-120478c5a077"
      },
      "execution_count": 27,
      "outputs": [
        {
          "output_type": "stream",
          "name": "stdout",
          "text": [
            "Correlation coefficient: 0.9999999999999999\n"
          ]
        }
      ]
    },
    {
      "cell_type": "markdown",
      "source": [
        "***Q11) Create a scatter plot to visualize the relationship between two datasets.***\n"
      ],
      "metadata": {
        "id": "oMnSijucQ03O"
      }
    },
    {
      "source": [
        "import matplotlib.pyplot as plt\n",
        "import numpy as np\n",
        "\n",
        "# Generate sample data\n",
        "x = np.random.rand(50)\n",
        "y = 2 * x + 1 + np.random.randn(50) * 0.3\n",
        "\n",
        "# Create the scatter plot\n",
        "plt.scatter(x, y)\n",
        "plt.xlabel(\"X-axis\")\n",
        "plt.ylabel(\"Y-axis\")\n",
        "plt.title(\"Scatter Plot of X vs. Y\")\n",
        "plt.show()"
      ],
      "cell_type": "code",
      "metadata": {
        "colab": {
          "base_uri": "https://localhost:8080/",
          "height": 472
        },
        "id": "zRth6WhtRPUr",
        "outputId": "b71d2fae-9cd8-4c06-801c-96b2159d645e"
      },
      "execution_count": 32,
      "outputs": [
        {
          "output_type": "display_data",
          "data": {
            "text/plain": [
              "<Figure size 640x480 with 1 Axes>"
            ],
            "image/png": "[encoded data removed]"
          },
          "metadata": {}
        }
      ]
    },
    {
      "cell_type": "markdown",
      "source": [
        "***Q12) Implement and compare simple random sampling and systematic sampling .***"
      ],
      "metadata": {
        "id": "pKN4W4ARTOHa"
      }
    },
    {
      "cell_type": "code",
      "source": [],
      "metadata": {
        "id": "554MuyhPToiF"
      },
      "execution_count": null,
      "outputs": []
    },
    {
      "source": [
        "import random\n",
        "\n",
        "def simple_random_sampling(population, sample_size):\n",
        "    \"\"\"\n",
        "    Selects a random sample of a given size from the population.\n",
        "\n",
        "    Args:\n",
        "        population: A list representing the entire population.\n",
        "        sample_size: An integer representing the desired sample size.\n",
        "\n",
        "    Returns:\n",
        "        A list representing the random sample.\n",
        "    \"\"\"\n",
        "    if sample_size > len(population):\n",
        "        raise ValueError(\"Sample size cannot be larger than the population\")\n",
        "    return random.sample(population, sample_size)"
      ],
      "cell_type": "code",
      "metadata": {
        "id": "UlqLvhB-TqCo"
      },
      "execution_count": 34,
      "outputs": []
    },
    {
      "source": [
        "import math\n",
        "\n",
        "def systematic_sampling(population, sample_size):\n",
        "    \"\"\"\n",
        "    Selects a systematic sample from the population.\n",
        "\n",
        "    Args:\n",
        "        population: A list representing the entire population.\n",
        "        sample_size: An integer representing the desired sample size.\n",
        "\n",
        "    Returns:\n",
        "        A list representing the systematic sample.\n",
        "    \"\"\"\n",
        "    interval = math.ceil(len(population) / sample_size)\n",
        "    start = random.randint(0, interval - 1)  # Random starting point\n",
        "    sample = [population[i] for i in range(start, len(population), interval)]\n",
        "    return sample"
      ],
      "cell_type": "code",
      "metadata": {
        "id": "7jsp8jJ-Tq9O"
      },
      "execution_count": 35,
      "outputs": []
    },
    {
      "source": [
        "# Define the population\n",
        "population = list(range(1, 1001))  # Numbers from 1 to 1000\n",
        "\n",
        "# Define sample size\n",
        "sample_size = 100\n",
        "\n",
        "# Perform simple random sampling\n",
        "simple_random_sample = simple_random_sampling(population, sample_size)\n",
        "\n",
        "# Perform systematic sampling\n",
        "systematic_sample = systematic_sampling(population, sample_size)\n",
        "\n",
        "# Print the samples\n",
        "print(\"Simple Random Sample:\", simple_random_sample)\n",
        "print(\"Systematic Sample:\", systematic_sample)"
      ],
      "cell_type": "code",
      "metadata": {
        "colab": {
          "base_uri": "https://localhost:8080/"
        },
        "id": "5ZfNgqyDTi95",
        "outputId": "b5b98526-537d-40b6-ecc0-2a1140881728"
      },
      "execution_count": 36,
      "outputs": [
        {
          "output_type": "stream",
          "name": "stdout",
          "text": [
            "Simple Random Sample: [869, 615, 496, 52, 852, 802, 776, 894, 104, 833, 128, 582, 626, 708, 73, 76, 326, 597, 247, 600, 404, 624, 382, 388, 732, 465, 663, 407, 622, 981, 907, 667, 601, 186, 260, 608, 642, 195, 955, 146, 775, 262, 258, 757, 648, 461, 500, 289, 64, 570, 314, 676, 277, 594, 552, 122, 746, 985, 715, 551, 528, 81, 479, 371, 830, 964, 544, 142, 900, 307, 607, 338, 121, 325, 520, 459, 689, 120, 499, 210, 105, 44, 912, 721, 308, 588, 895, 527, 63, 297, 756, 901, 130, 654, 199, 70, 400, 853, 841, 298]\n",
            "Systematic Sample: [6, 16, 26, 36, 46, 56, 66, 76, 86, 96, 106, 116, 126, 136, 146, 156, 166, 176, 186, 196, 206, 216, 226, 236, 246, 256, 266, 276, 286, 296, 306, 316, 326, 336, 346, 356, 366, 376, 386, 396, 406, 416, 426, 436, 446, 456, 466, 476, 486, 496, 506, 516, 526, 536, 546, 556, 566, 576, 586, 596, 606, 616, 626, 636, 646, 656, 666, 676, 686, 696, 706, 716, 726, 736, 746, 756, 766, 776, 786, 796, 806, 816, 826, 836, 846, 856, 866, 876, 886, 896, 906, 916, 926, 936, 946, 956, 966, 976, 986, 996]\n"
          ]
        }
      ]
    },
    {
      "cell_type": "markdown",
      "source": [
        "***Q13) Calculate the mean ,median, mode of grouped data.***"
      ],
      "metadata": {
        "id": "qlTudSB-TwG6"
      }
    },
    {
      "cell_type": "code",
      "source": [],
      "metadata": {
        "id": "YLKTMoNIT4z4"
      },
      "execution_count": null,
      "outputs": []
    },
    {
      "source": [
        "import numpy as np\n",
        "import pandas as pd\n",
        "\n",
        "# Sample grouped data (replace with your actual data)\n",
        "data = {\n",
        "    'Class Interval': ['10-20', '20-30', '30-40', '40-50'],\n",
        "    'Frequency': [5, 8, 12, 6]\n",
        "}\n",
        "df = pd.DataFrame(data)\n",
        "\n",
        "# Calculate midpoints of class intervals\n",
        "df['Midpoint'] = df['Class Interval'].apply(lambda x: (int(x.split('-')[0]) + int(x.split('-')[1])) / 2)\n",
        "\n",
        "# Calculate mean\n",
        "mean = np.sum(df['Midpoint'] * df['Frequency']) / np.sum(df['Frequency'])\n",
        "\n",
        "print(f\"Mean: {mean}\")"
      ],
      "cell_type": "code",
      "metadata": {
        "colab": {
          "base_uri": "https://localhost:8080/"
        },
        "id": "2qg3Elo7T9Hp",
        "outputId": "5a2457af-cede-4447-defe-815e23829966"
      },
      "execution_count": 39,
      "outputs": [
        {
          "output_type": "stream",
          "name": "stdout",
          "text": [
            "Mean: 31.129032258064516\n"
          ]
        }
      ]
    },
    {
      "source": [
        "# Calculate cumulative frequency\n",
        "df['Cumulative Frequency'] = df['Frequency'].cumsum()\n",
        "\n",
        "# Find the median class (the class containing the middle value)\n",
        "n = np.sum(df['Frequency'])\n",
        "median_class_index = next(i for i, val in enumerate(df['Cumulative Frequency']) if val >= n / 2)\n",
        "\n",
        "# Calculate median\n",
        "l = int(df['Class Interval'][median_class_index].split('-')[0])  # Lower limit of median class\n",
        "cf = df['Cumulative Frequency'][median_class_index - 1] if median_class_index > 0 else 0  # Cumulative frequency of previous class\n",
        "f = df['Frequency'][median_class_index]  # Frequency of median class\n",
        "h = int(df['Class Interval'][median_class_index].split('-')[1]) - l  # Class width\n",
        "\n",
        "median = l + ((n / 2 - cf) / f) * h\n",
        "\n",
        "print(f\"Median: {median}\")"
      ],
      "cell_type": "code",
      "metadata": {
        "colab": {
          "base_uri": "https://localhost:8080/"
        },
        "id": "nso76oYHUOWm",
        "outputId": "5298a97a-a781-4ee4-bc68-6102d47d4fa0"
      },
      "execution_count": 41,
      "outputs": [
        {
          "output_type": "stream",
          "name": "stdout",
          "text": [
            "Median: 32.083333333333336\n"
          ]
        }
      ]
    },
    {
      "source": [
        "# Find the modal class (the class with the highest frequency)\n",
        "modal_class_index = df['Frequency'].idxmax()\n",
        "\n",
        "# Calculate mode\n",
        "l = int(df['Class Interval'][modal_class_index].split('-')[0])  # Lower limit of modal class\n",
        "f1 = df['Frequency'][modal_class_index]  # Frequency of modal class\n",
        "f0 = df['Frequency'][modal_class_index - 1] if modal_class_index > 0 else 0  # Frequency of previous class\n",
        "f2 = df['Frequency'][modal_class_index + 1] if modal_class_index < len(df) - 1 else 0  # Frequency of next class\n",
        "h = int(df['Class Interval'][modal_class_index].split('-')[1]) - l  # Class width\n",
        "\n",
        "mode = l + (f1 - f0) / (2 * f1 - f0 - f2) * h\n",
        "\n",
        "print(f\"Mode: {mode}\")"
      ],
      "cell_type": "code",
      "metadata": {
        "colab": {
          "base_uri": "https://localhost:8080/"
        },
        "id": "DkDl7f95UTMo",
        "outputId": "f3e4bc3e-e99c-4c8e-bc9e-ee3b27974686"
      },
      "execution_count": 42,
      "outputs": [
        {
          "output_type": "stream",
          "name": "stdout",
          "text": [
            "Mode: 34.0\n"
          ]
        }
      ]
    },
    {
      "cell_type": "markdown",
      "source": [
        "***Q14) Simulate data using python and calculate its central tendency and dispersion.***"
      ],
      "metadata": {
        "id": "h-NYa8JlUVcL"
      }
    },
    {
      "source": [
        "import numpy as np\n",
        "\n",
        "# Generate 1000 random numbers from a normal distribution\n",
        "data = np.random.normal(loc=50, scale=10, size=1000)\n",
        "# loc: mean, scale: standard deviation, size: number of data points"
      ],
      "cell_type": "code",
      "metadata": {
        "id": "yUTp6gRtUqmw"
      },
      "execution_count": 43,
      "outputs": []
    },
    {
      "source": [
        "# Calculate the mean\n",
        "mean = np.mean(data)\n",
        "print(f\"Mean: {mean}\")\n",
        "\n",
        "# Calculate the median\n",
        "median = np.median(data)\n",
        "print(f\"Median: {median}\")\n",
        "\n",
        "# Calculate the mode (using statistics library for discrete data)\n",
        "import statistics\n",
        "# For continuous data, mode might not be well-defined,\n",
        "# but you can use bins to approximate it.\n",
        "# mode = statistics.mode(data)\n",
        "# print(f\"Mode: {mode}\")"
      ],
      "cell_type": "code",
      "metadata": {
        "colab": {
          "base_uri": "https://localhost:8080/"
        },
        "id": "ODAhUkuyUtTf",
        "outputId": "2fbb81af-e21e-47e2-b1c8-eeac083af290"
      },
      "execution_count": 44,
      "outputs": [
        {
          "output_type": "stream",
          "name": "stdout",
          "text": [
            "Mean: 49.9381600477954\n",
            "Median: 49.90955330566736\n"
          ]
        }
      ]
    },
    {
      "source": [
        "# Calculate the variance\n",
        "variance = np.var(data)\n",
        "print(f\"Variance: {variance}\")\n",
        "\n",
        "# Calculate the standard deviation\n",
        "std_dev = np.std(data)\n",
        "print(f\"Standard Deviation: {std_dev}\")\n",
        "\n",
        "# Calculate the range\n",
        "range_data = np.max(data) - np.min(data)\n",
        "print(f\"Range: {range_data}\")"
      ],
      "cell_type": "code",
      "metadata": {
        "id": "CQSwNUjaUwAK",
        "outputId": "a0b165aa-ae8a-4adf-9421-ea3eac26f0e9",
        "colab": {
          "base_uri": "https://localhost:8080/"
        }
      },
      "execution_count": 45,
      "outputs": [
        {
          "output_type": "stream",
          "name": "stdout",
          "text": [
            "Variance: 98.90206210359298\n",
            "Standard Deviation: 9.94495158880087\n",
            "Range: 67.24374626018147\n"
          ]
        }
      ]
    }
  ]
}